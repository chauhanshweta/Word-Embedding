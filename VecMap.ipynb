{
  "nbformat": 4,
  "nbformat_minor": 0,
  "metadata": {
    "colab": {
      "name": "VecMap.ipynb",
      "provenance": [],
      "collapsed_sections": [],
      "machine_shape": "hm",
      "include_colab_link": true
    },
    "kernelspec": {
      "name": "python3",
      "display_name": "Python 3"
    },
    "accelerator": "GPU"
  },
  "cells": [
    {
      "cell_type": "markdown",
      "metadata": {
        "id": "view-in-github",
        "colab_type": "text"
      },
      "source": [
        "<a href=\"https://colab.research.google.com/github/chauhanshweta/Word-Embedding/blob/main/VecMap.ipynb\" target=\"_parent\"><img src=\"https://colab.research.google.com/assets/colab-badge.svg\" alt=\"Open In Colab\"/></a>"
      ]
    },
    {
      "cell_type": "code",
      "metadata": {
        "id": "FOyP3ITZ093J",
        "colab": {
          "base_uri": "https://localhost:8080/"
        },
        "outputId": "b0579213-0588-4b03-dbf8-f5beb389a392"
      },
      "source": [
        "from google.colab import drive\n",
        "drive.mount('/content/drive')"
      ],
      "execution_count": 1,
      "outputs": [
        {
          "output_type": "stream",
          "name": "stdout",
          "text": [
            "Mounted at /content/drive\n"
          ]
        }
      ]
    },
    {
      "cell_type": "code",
      "metadata": {
        "id": "-WtiRzNUTt6w",
        "colab": {
          "base_uri": "https://localhost:8080/"
        },
        "outputId": "b984ee77-0624-451a-d16b-65ab1ab35e5a"
      },
      "source": [
        "#### to change directory\n",
        "%cd /content/drive/MyDrive/project_codes"
      ],
      "execution_count": 2,
      "outputs": [
        {
          "output_type": "stream",
          "name": "stdout",
          "text": [
            "/content/drive/MyDrive/project_codes\n"
          ]
        }
      ]
    },
    {
      "cell_type": "code",
      "metadata": {
        "colab": {
          "base_uri": "https://localhost:8080/"
        },
        "id": "6IuHXt6k3Rie",
        "outputId": "571fb36a-c707-4b59-989a-a4f375a047f3"
      },
      "source": [
        "#### to go out of the folder\n",
        "%cd .."
      ],
      "execution_count": 3,
      "outputs": [
        {
          "output_type": "stream",
          "name": "stdout",
          "text": [
            "/content/drive/MyDrive\n"
          ]
        }
      ]
    },
    {
      "cell_type": "code",
      "metadata": {
        "colab": {
          "base_uri": "https://localhost:8080/"
        },
        "id": "2jTrCLylj63b",
        "outputId": "f5ddd77e-a6eb-4608-cecf-37cc2c2c6b97"
      },
      "source": [
        "%cd /content/drive/MyDrive/project_codes"
      ],
      "execution_count": 4,
      "outputs": [
        {
          "output_type": "stream",
          "name": "stdout",
          "text": [
            "/content/drive/MyDrive/project_codes\n"
          ]
        }
      ]
    },
    {
      "cell_type": "code",
      "metadata": {
        "id": "09r8Mx0QFzhk",
        "colab": {
          "base_uri": "https://localhost:8080/"
        },
        "outputId": "3071885f-4431-402b-93a3-5cbdc09bae95"
      },
      "source": [
        "#!cd drive/MyDrive/undreaMT\n",
        "#!git clone https://github.com/artetxem/vecmap"
      ],
      "execution_count": 5,
      "outputs": [
        {
          "output_type": "stream",
          "name": "stdout",
          "text": [
            "fatal: destination path 'vecmap' already exists and is not an empty directory.\n"
          ]
        }
      ]
    },
    {
      "cell_type": "code",
      "metadata": {
        "id": "xlwdb6-rG95N",
        "colab": {
          "base_uri": "https://localhost:8080/"
        },
        "outputId": "eada47c9-6352-4242-8b7b-83e59af04584"
      },
      "source": [
        "cd vecmap"
      ],
      "execution_count": 6,
      "outputs": [
        {
          "output_type": "stream",
          "name": "stdout",
          "text": [
            "/content/drive/My Drive/project_codes/vecmap\n"
          ]
        }
      ]
    },
    {
      "cell_type": "code",
      "metadata": {
        "colab": {
          "base_uri": "https://localhost:8080/"
        },
        "id": "amRAkjjOT0fp",
        "outputId": "92ef3f62-6efd-49ce-94af-85f1be038a45"
      },
      "source": [
        "!ls"
      ],
      "execution_count": null,
      "outputs": [
        {
          "output_type": "stream",
          "name": "stdout",
          "text": [
            "cupy_utils.py\t eval_similarity.py   LICENSE.txt\t       README.md\n",
            "embeddings.py\t eval_translation.py  map_embeddings.py\n",
            "eval_analogy.py  get_data.sh\t      normalize_embeddings.py\n"
          ]
        }
      ]
    },
    {
      "cell_type": "code",
      "metadata": {
        "id": "6AGf8D3UIFKm",
        "colab": {
          "base_uri": "https://localhost:8080/"
        },
        "outputId": "54dceadb-c92b-48d3-e558-aaa280de116a"
      },
      "source": [
        "!pwd"
      ],
      "execution_count": null,
      "outputs": [
        {
          "output_type": "stream",
          "name": "stdout",
          "text": [
            "/content/drive/My Drive/project_codes/vecmap\n"
          ]
        }
      ]
    },
    {
      "cell_type": "code",
      "metadata": {
        "id": "B6sFzGEmKqGa",
        "colab": {
          "base_uri": "https://localhost:8080/"
        },
        "outputId": "a5a44ff7-75e2-40ec-d655-c1c670edf153"
      },
      "source": [
        "# \n",
        "!python3 map_embeddings.py --supervised /content/drive/MyDrive/project_codes/Embeddings/en_40000.txt.vec /content/drive/MyDrive/project_codes/Embeddings/hi_40000.txt.vec /content/drive/MyDrive/undreaMT/dataset/engmapped300 /content/drive/MyDrive/undreaMT/dataset/hindimapped300 --cuda"
      ],
      "execution_count": null,
      "outputs": [
        {
          "output_type": "stream",
          "text": [
            "usage: map_embeddings.py [-h] [--encoding ENCODING]\n",
            "                         [--precision {fp16,fp32,fp64}] [--cuda]\n",
            "                         [--batch_size BATCH_SIZE] [--seed SEED]\n",
            "                         [--supervised DICTIONARY | --semi_supervised DICTIONARY | --identical | --unsupervised | --acl2018 | --aaai2018 DICTIONARY | --acl2017 | --acl2017_seed DICTIONARY | --emnlp2016 DICTIONARY]\n",
            "                         [-d DICTIONARY | --init_identical | --init_numerals | --init_unsupervised]\n",
            "                         [--unsupervised_vocab UNSUPERVISED_VOCAB]\n",
            "                         [--normalize [{unit,center,unitdim,centeremb,none} [{unit,center,unitdim,centeremb,none} ...]]]\n",
            "                         [--whiten] [--src_reweight [SRC_REWEIGHT]]\n",
            "                         [--trg_reweight [TRG_REWEIGHT]]\n",
            "                         [--src_dewhiten {src,trg}] [--trg_dewhiten {src,trg}]\n",
            "                         [--dim_reduction DIM_REDUCTION] [-c | -u]\n",
            "                         [--self_learning]\n",
            "                         [--vocabulary_cutoff VOCABULARY_CUTOFF]\n",
            "                         [--direction {forward,backward,union}]\n",
            "                         [--csls [NEIGHBORHOOD_SIZE]] [--threshold THRESHOLD]\n",
            "                         [--validation DICTIONARY]\n",
            "                         [--stochastic_initial STOCHASTIC_INITIAL]\n",
            "                         [--stochastic_multiplier STOCHASTIC_MULTIPLIER]\n",
            "                         [--stochastic_interval STOCHASTIC_INTERVAL]\n",
            "                         [--log LOG] [-v]\n",
            "                         src_input trg_input src_output trg_output\n",
            "map_embeddings.py: error: the following arguments are required: trg_output\n"
          ],
          "name": "stdout"
        }
      ]
    },
    {
      "cell_type": "code",
      "metadata": {
        "id": "8543DadulGTL"
      },
      "source": [
        "#\n",
        "!python3 map_embeddings.py --unsupervised /content/drive/MyDrive/project_codes/Embeddings/en_40000.txt.vec /content/drive/MyDrive/project_codes/Embeddings/hi_40000.txt.vec /content/drive/MyDrive/project_codes/vecmap_output/english_mapped_300 /content/drive/MyDrive/project_codes/vecmap_output/hindimapped300 --cuda"
      ],
      "execution_count": 10,
      "outputs": []
    },
    {
      "cell_type": "code",
      "metadata": {
        "id": "pmlPHNcurYUP",
        "colab": {
          "base_uri": "https://localhost:8080/"
        },
        "outputId": "1327e494-b707-478b-9a6b-5aac0e328185"
      },
      "source": [
        "!python3 map_embeddings.py --semi_supervised paper/en-hi.5000-6500.txt paper/english_mono_iitb300.vec paper/hindi_mono_iitb300.vec SRC_MAPPED_seed1500_en_hi.EMB TRG_MAPPED_seed1500_en_hi.EMB --cuda"
      ],
      "execution_count": null,
      "outputs": [
        {
          "output_type": "stream",
          "text": [
            "python3: can't open file 'map_embeddings.py': [Errno 2] No such file or directory\n"
          ],
          "name": "stdout"
        }
      ]
    },
    {
      "cell_type": "code",
      "metadata": {
        "id": "RacymQbHhiCd"
      },
      "source": [
        "!python3 map_embeddings.py --unsupervised '/content/drive/MyDrive/NLP/Embeddings 40000/drive-download-20210923T173324Z-001/eng_40000.txt.n200.clusters.minsize5-1000-sum-score-20 (1).sense_vectors' '/content/drive/MyDrive/NLP/Embeddings 40000/drive-download-20210923T165409Z-001/hi_40000.txt.n200.clusters.minsize5-1000-sum-score-20.sense_vectors' /content/engmappedsense /content/hindimappedsense --cuda"
      ],
      "execution_count": null,
      "outputs": []
    },
    {
      "cell_type": "code",
      "metadata": {
        "id": "mYHAvssiqU3j",
        "colab": {
          "base_uri": "https://localhost:8080/"
        },
        "outputId": "812ed30a-1638-4306-a7a6-0cf8de189984"
      },
      "source": [
        "cd kangari_trained_unsupervised/kangri_dict_700.txt"
      ],
      "execution_count": null,
      "outputs": [
        {
          "output_type": "stream",
          "text": [
            "[Errno 2] No such file or directory: 'kangari_trained_unsupervised/kangri_dict_700.txt'\n",
            "/content\n"
          ],
          "name": "stdout"
        }
      ]
    },
    {
      "cell_type": "code",
      "metadata": {
        "id": "IqsfBFaaB_S0",
        "colab": {
          "base_uri": "https://localhost:8080/"
        },
        "outputId": "402926ae-3848-44f4-c3c2-a37f91fade52"
      },
      "source": [
        "!python3 eval_translation.py   -d muse_mapped_op/5kr.txt --retrieval nn --cuda"
      ],
      "execution_count": null,
      "outputs": [
        {
          "output_type": "stream",
          "text": [
            "python3: can't open file 'eval_translation.py': [Errno 2] No such file or directory\n"
          ],
          "name": "stdout"
        }
      ]
    },
    {
      "cell_type": "code",
      "metadata": {
        "id": "mGIz4aYw7kit",
        "colab": {
          "base_uri": "https://localhost:8080/"
        },
        "outputId": "3575d401-5e3b-4ee0-d368-f40efef3f19e"
      },
      "source": [
        "!python3 eval_translation.py /content/drive/MyDrive/Classroom/hinaugmapped /content/drive/MyDrive/Classroom/engaugmapped -d /content/drive/MyDrive/Classroom/hi-en.0-5000.txt --retrieval csls"
      ],
      "execution_count": null,
      "outputs": [
        {
          "output_type": "stream",
          "text": [
            "Coverage: 24.00%  Accuracy:  0.08%\n"
          ],
          "name": "stdout"
        }
      ]
    },
    {
      "cell_type": "code",
      "metadata": {
        "id": "Zxl0mElXk1Yy",
        "colab": {
          "base_uri": "https://localhost:8080/"
        },
        "outputId": "6986b515-1335-4bce-d4cb-093e4d339555"
      },
      "source": [
        "!!python3 eval_translation.py muse_mapped_op/supervised_mapped_with_1500/vectors-hi.txt muse_mapped_op/supervised_mapped_with_1500/vectors-en.txt -d muse_mapped_op/5k.txt --retrieval invnn --cuda"
      ],
      "execution_count": null,
      "outputs": [
        {
          "output_type": "execute_result",
          "data": {
            "text/plain": [
              "[\"python3: can't open file 'eval_translation.py': [Errno 2] No such file or directory\"]"
            ]
          },
          "metadata": {
            "tags": []
          },
          "execution_count": 12
        }
      ]
    },
    {
      "cell_type": "code",
      "metadata": {
        "id": "RHkkbptPpWeW",
        "colab": {
          "base_uri": "https://localhost:8080/"
        },
        "outputId": "9ffb93e2-5876-473d-db39-d8f174fa9723"
      },
      "source": [
        "!python3 eval_translation.py muse_mapped_op/supervised_mapped_with_1500/vectors-en.txt muse_mapped_op/supervised_mapped_with_1500/vectors-hi.txt -d muse_mapped_op/5k.txt --retrieval invsoftmax --cuda"
      ],
      "execution_count": null,
      "outputs": [
        {
          "output_type": "stream",
          "text": [
            "python3: can't open file 'eval_translation.py': [Errno 2] No such file or directory\n"
          ],
          "name": "stdout"
        }
      ]
    },
    {
      "cell_type": "code",
      "metadata": {
        "id": "qU06QOL7tFWv",
        "colab": {
          "base_uri": "https://localhost:8080/"
        },
        "outputId": "e0b90b27-f75c-48dd-c8df-f0ed842e6416"
      },
      "source": [
        "mv -i ~'/content/engmappedsense' ~'/content/drive/MyDrive/NLP/Embeddings 40000/Mapped'"
      ],
      "execution_count": null,
      "outputs": [
        {
          "output_type": "stream",
          "name": "stdout",
          "text": [
            "mv: cannot stat '~/content/engmappedsense': No such file or directory\n"
          ]
        }
      ]
    }
  ]
}