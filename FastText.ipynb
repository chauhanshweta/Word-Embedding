{
  "nbformat": 4,
  "nbformat_minor": 0,
  "metadata": {
    "colab": {
      "name": "FastText.ipynb",
      "provenance": [],
      "collapsed_sections": [],
      "include_colab_link": true
    },
    "kernelspec": {
      "name": "python3",
      "display_name": "Python 3"
    },
    "accelerator": "GPU"
  },
  "cells": [
    {
      "cell_type": "markdown",
      "metadata": {
        "id": "view-in-github",
        "colab_type": "text"
      },
      "source": [
        "<a href=\"https://colab.research.google.com/github/chauhanshweta/Word-Embedding/blob/main/FastText.ipynb\" target=\"_parent\"><img src=\"https://colab.research.google.com/assets/colab-badge.svg\" alt=\"Open In Colab\"/></a>"
      ]
    },
    {
      "cell_type": "code",
      "metadata": {
        "id": "eTBJ5BylJ0nJ",
        "colab": {
          "base_uri": "https://localhost:8080/"
        },
        "outputId": "6f97da71-fc5d-4b50-8dca-3372d078d5c2"
      },
      "source": [
        "from google.colab import drive\n",
        "drive.mount('/content/drive')"
      ],
      "execution_count": null,
      "outputs": [
        {
          "output_type": "stream",
          "name": "stdout",
          "text": [
            "Drive already mounted at /content/drive; to attempt to forcibly remount, call drive.mount(\"/content/drive\", force_remount=True).\n"
          ]
        }
      ]
    },
    {
      "cell_type": "code",
      "metadata": {
        "id": "d0JGi3iVJ11h"
      },
      "source": [
        "#https://fasttext.cc/docs/en/unsupervised-tutorial.html"
      ],
      "execution_count": null,
      "outputs": []
    },
    {
      "cell_type": "code",
      "metadata": {
        "id": "kI07liVzKEhp",
        "colab": {
          "base_uri": "https://localhost:8080/"
        },
        "outputId": "cb8edf74-8f48-4041-8f9e-480fc9cad28a"
      },
      "source": [
        "cd /content/drive/MyDrive"
      ],
      "execution_count": null,
      "outputs": [
        {
          "output_type": "stream",
          "name": "stdout",
          "text": [
            "/content/drive/MyDrive\n"
          ]
        }
      ]
    },
    {
      "cell_type": "code",
      "metadata": {
        "colab": {
          "base_uri": "https://localhost:8080/"
        },
        "id": "GWt7SUJyU493",
        "outputId": "7f1cce3b-f71c-4675-8914-8926e99a408f"
      },
      "source": [
        "cd project_codes"
      ],
      "execution_count": null,
      "outputs": [
        {
          "output_type": "stream",
          "name": "stdout",
          "text": [
            "/content/drive/MyDrive/project_codes\n"
          ]
        }
      ]
    },
    {
      "cell_type": "code",
      "metadata": {
        "colab": {
          "base_uri": "https://localhost:8080/"
        },
        "id": "Jwkv4oEqWpVu",
        "outputId": "fb75ddc9-be86-495d-c799-6be4bd5705b9"
      },
      "source": [
        "cd fasttext_script"
      ],
      "execution_count": null,
      "outputs": [
        {
          "output_type": "stream",
          "name": "stdout",
          "text": [
            "/content/drive/MyDrive/project_codes/fasttext_script\n"
          ]
        }
      ]
    },
    {
      "cell_type": "code",
      "metadata": {
        "id": "tddblszHKQjH",
        "colab": {
          "base_uri": "https://localhost:8080/"
        },
        "outputId": "364997ed-d588-474f-9e3e-445d205a3ca1"
      },
      "source": [
        "!git clone https://github.com/facebookresearch/fastText.git"
      ],
      "execution_count": null,
      "outputs": [
        {
          "output_type": "stream",
          "name": "stdout",
          "text": [
            "Cloning into 'fastText'...\n",
            "remote: Enumerating objects: 3854, done.\u001b[K\n",
            "remote: Total 3854 (delta 0), reused 0 (delta 0), pack-reused 3854\u001b[K\n",
            "Receiving objects: 100% (3854/3854), 8.22 MiB | 8.25 MiB/s, done.\n",
            "Resolving deltas: 100% (2417/2417), done.\n",
            "Checking out files: 100% (526/526), done.\n"
          ]
        }
      ]
    },
    {
      "cell_type": "code",
      "metadata": {
        "id": "GBD3ce06KVNs",
        "colab": {
          "base_uri": "https://localhost:8080/"
        },
        "outputId": "a4d65d96-92dc-4947-b20f-b4eaf0115b0f"
      },
      "source": [
        "cd fastText"
      ],
      "execution_count": null,
      "outputs": [
        {
          "output_type": "stream",
          "name": "stdout",
          "text": [
            "/content/drive/My Drive/project_codes/fastText\n"
          ]
        }
      ]
    },
    {
      "cell_type": "code",
      "metadata": {
        "colab": {
          "base_uri": "https://localhost:8080/"
        },
        "id": "DiGEPCPFVunb",
        "outputId": "58bf43bc-d900-41ce-c05a-29850c526026"
      },
      "source": [
        "cd ..\n"
      ],
      "execution_count": null,
      "outputs": [
        {
          "output_type": "stream",
          "name": "stdout",
          "text": [
            "/content/drive/MyDrive/project_codes/fasttext_script\n"
          ]
        }
      ]
    },
    {
      "cell_type": "code",
      "metadata": {
        "id": "fY0y68foKTZr"
      },
      "source": [
        "#!mkdir data"
      ],
      "execution_count": null,
      "outputs": []
    },
    {
      "cell_type": "code",
      "metadata": {
        "id": "ro-dqJwSKYXb"
      },
      "source": [
        "#!mkdir result"
      ],
      "execution_count": null,
      "outputs": []
    },
    {
      "cell_type": "code",
      "metadata": {
        "id": "tJILEa5TKfYP",
        "colab": {
          "base_uri": "https://localhost:8080/"
        },
        "outputId": "5de17900-e7fc-4d9c-f068-eb25be915a70"
      },
      "source": [
        "!make"
      ],
      "execution_count": null,
      "outputs": [
        {
          "output_type": "stream",
          "name": "stdout",
          "text": [
            "c++ -pthread -std=c++11 -march=native -O3 -funroll-loops -DNDEBUG -c src/args.cc\n",
            "c++ -pthread -std=c++11 -march=native -O3 -funroll-loops -DNDEBUG -c src/autotune.cc\n",
            "c++ -pthread -std=c++11 -march=native -O3 -funroll-loops -DNDEBUG -c src/matrix.cc\n",
            "c++ -pthread -std=c++11 -march=native -O3 -funroll-loops -DNDEBUG -c src/dictionary.cc\n",
            "c++ -pthread -std=c++11 -march=native -O3 -funroll-loops -DNDEBUG -c src/loss.cc\n",
            "c++ -pthread -std=c++11 -march=native -O3 -funroll-loops -DNDEBUG -c src/productquantizer.cc\n",
            "c++ -pthread -std=c++11 -march=native -O3 -funroll-loops -DNDEBUG -c src/densematrix.cc\n",
            "c++ -pthread -std=c++11 -march=native -O3 -funroll-loops -DNDEBUG -c src/quantmatrix.cc\n",
            "c++ -pthread -std=c++11 -march=native -O3 -funroll-loops -DNDEBUG -c src/vector.cc\n",
            "c++ -pthread -std=c++11 -march=native -O3 -funroll-loops -DNDEBUG -c src/model.cc\n",
            "c++ -pthread -std=c++11 -march=native -O3 -funroll-loops -DNDEBUG -c src/utils.cc\n",
            "c++ -pthread -std=c++11 -march=native -O3 -funroll-loops -DNDEBUG -c src/meter.cc\n",
            "c++ -pthread -std=c++11 -march=native -O3 -funroll-loops -DNDEBUG -c src/fasttext.cc\n",
            "c++ -pthread -std=c++11 -march=native -O3 -funroll-loops -DNDEBUG args.o autotune.o matrix.o dictionary.o loss.o productquantizer.o densematrix.o quantmatrix.o vector.o model.o utils.o meter.o fasttext.o src/main.cc -o fasttext\n"
          ]
        }
      ]
    },
    {
      "cell_type": "code",
      "metadata": {
        "colab": {
          "base_uri": "https://localhost:8080/"
        },
        "id": "t0pgKw7Qa7jq",
        "outputId": "9de01832-8e89-49ed-80a6-a649ea1a1b6f"
      },
      "source": [
        "!pwd\n",
        "%cd .."
      ],
      "execution_count": null,
      "outputs": [
        {
          "output_type": "stream",
          "name": "stdout",
          "text": [
            "/content/drive/MyDrive/project_codes/fastText\n",
            "/content/drive/MyDrive/project_codes\n"
          ]
        }
      ]
    },
    {
      "cell_type": "code",
      "metadata": {
        "id": "TorLeU3kKhfo",
        "colab": {
          "base_uri": "https://localhost:8080/"
        },
        "outputId": "fba6bf50-62a2-423b-e9de-09cf8861a07e"
      },
      "source": [
        "!chmod 755 fasttext"
      ],
      "execution_count": null,
      "outputs": [
        {
          "output_type": "stream",
          "name": "stdout",
          "text": [
            "chmod: cannot access 'fasttext': No such file or directory\n"
          ]
        }
      ]
    },
    {
      "cell_type": "code",
      "metadata": {
        "colab": {
          "base_uri": "https://localhost:8080/"
        },
        "id": "epZqglrdXcTO",
        "outputId": "d693e1b1-cf6e-41f3-8958-2749ffba7100"
      },
      "source": [
        "cd fastText"
      ],
      "execution_count": null,
      "outputs": [
        {
          "output_type": "stream",
          "name": "stdout",
          "text": [
            "/content/drive/My Drive/project_codes/fastText\n"
          ]
        }
      ]
    },
    {
      "cell_type": "code",
      "metadata": {
        "colab": {
          "base_uri": "https://localhost:8080/"
        },
        "id": "_JCqEXMygctR",
        "outputId": "fc470615-95eb-4fd8-df78-830bfff0bb0b"
      },
      "source": [
        "!pwd"
      ],
      "execution_count": null,
      "outputs": [
        {
          "output_type": "stream",
          "name": "stdout",
          "text": [
            "/content/drive/MyDrive/project_codes\n"
          ]
        }
      ]
    },
    {
      "cell_type": "code",
      "metadata": {
        "id": "qbUPuu16KlQy",
        "colab": {
          "base_uri": "https://localhost:8080/"
        },
        "outputId": "873835c0-81c0-455b-fd84-989653abed18"
      },
      "source": [
        "!./fasttext skipgram -input /content/drive/MyDrive/project_codes/NLP/Master_Dataset/Kangri/parallel_kangri.txt  -output /content/drive/MyDrive/project_codes/Embeddings/kangari.txt -dim 100 -epoch 10"
      ],
      "execution_count": null,
      "outputs": [
        {
          "output_type": "stream",
          "name": "stdout",
          "text": [
            "\rRead 0M words\n",
            "Number of words:  6009\n",
            "Number of labels: 0\n",
            "Progress: 100.0% words/sec/thread:   18788 lr:  0.000000 avg.loss:  2.289163 ETA:   0h 0m 0s\n"
          ]
        }
      ]
    },
    {
      "cell_type": "code",
      "metadata": {
        "id": "24G4jzFcKpz6"
      },
      "source": [
        "import gensim"
      ],
      "execution_count": null,
      "outputs": []
    },
    {
      "cell_type": "code",
      "metadata": {
        "id": "Yf2JZYBLK4gf"
      },
      "source": [
        "model = gensim.models.KeyedVectors.load_word2vec_format('/content/drive/MyDrive/project_codes/Embeddings/en_40000.txt.vec', binary=False)\n"
      ],
      "execution_count": null,
      "outputs": []
    },
    {
      "cell_type": "code",
      "metadata": {
        "id": "rFb3xw8vM6Pt",
        "colab": {
          "base_uri": "https://localhost:8080/"
        },
        "outputId": "87984333-82ae-4061-e348-65a251db7a24"
      },
      "source": [
        "model.most_similar(\"life\")"
      ],
      "execution_count": null,
      "outputs": [
        {
          "output_type": "execute_result",
          "data": {
            "text/plain": [
              "[('life!', 0.9481224417686462),\n",
              " ('life,', 0.8839604258537292),\n",
              " ('life?', 0.879019021987915),\n",
              " ('lift', 0.8711116313934326),\n",
              " ('life.', 0.857984185218811),\n",
              " ('Life', 0.8215447664260864),\n",
              " ('lie', 0.789527416229248),\n",
              " ('knife', 0.7786452174186707),\n",
              " ('memory', 0.7592657208442688),\n",
              " ('family.', 0.7548510432243347)]"
            ]
          },
          "metadata": {},
          "execution_count": 113
        }
      ]
    },
    {
      "cell_type": "code",
      "metadata": {
        "id": "_SBNxq5vPZ4b"
      },
      "source": [
        ""
      ],
      "execution_count": null,
      "outputs": []
    }
  ]
}